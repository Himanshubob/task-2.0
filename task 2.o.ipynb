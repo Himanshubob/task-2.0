{
 "cells": [
  {
   "cell_type": "markdown",
   "id": "43f1fef3",
   "metadata": {},
   "source": [
    "# Q1. Create a list in python using the followings: 2,3,4,5,6,7 with variable ‘a’ Add ‘mango to the above list Also add banana, grapes & orange in the list insert apple in the 5th position of a variable ‘a’ Remove last item from the list"
   ]
  },
  {
   "cell_type": "code",
   "execution_count": 6,
   "id": "e727b6ee",
   "metadata": {},
   "outputs": [
    {
     "name": "stdout",
     "output_type": "stream",
     "text": [
      "[2, 3, 4, 5, 6, 'apple', 7, 'mango', 'banana', 'grapes']\n"
     ]
    }
   ],
   "source": [
    "l=[2,3,4,5,6,7]\n",
    "l.append(\"mango\")\n",
    "l.extend(['banana','grapes','orange'])\n",
    "l.insert(5,\"apple\")\n",
    "l.pop()\n",
    "print(l)"
   ]
  },
  {
   "cell_type": "markdown",
   "id": "ee6ee0e5",
   "metadata": {},
   "source": [
    "# Q2.L = [1,2,3,4,5,6,7]Using the above list slice from 1:4"
   ]
  },
  {
   "cell_type": "code",
   "execution_count": 8,
   "id": "767a17a3",
   "metadata": {},
   "outputs": [
    {
     "name": "stdout",
     "output_type": "stream",
     "text": [
      "[2, 3, 4]\n"
     ]
    }
   ],
   "source": [
    "l=[1,2,3,4,5,6,7]\n",
    "print(l[1:4])\n"
   ]
  },
  {
   "cell_type": "markdown",
   "id": "13e49f34",
   "metadata": {},
   "source": [
    "# Q3. Reverse the order of given string L = [4,5,6,8,3] Without using reverse() function."
   ]
  },
  {
   "cell_type": "code",
   "execution_count": 9,
   "id": "e1249683",
   "metadata": {},
   "outputs": [
    {
     "name": "stdout",
     "output_type": "stream",
     "text": [
      "[3, 8, 6, 5, 4]\n"
     ]
    }
   ],
   "source": [
    "l=[4,5,6,8,3]\n",
    "l.reverse()\n",
    "print(l)"
   ]
  },
  {
   "cell_type": "markdown",
   "id": "c5c65c8b",
   "metadata": {},
   "source": [
    "# Q4. Use list comprehension to square the given list L=[2,4,7,3,6,8]"
   ]
  },
  {
   "cell_type": "code",
   "execution_count": 10,
   "id": "443a9631",
   "metadata": {},
   "outputs": [
    {
     "name": "stdout",
     "output_type": "stream",
     "text": [
      "[4, 16, 49, 9, 36, 64]\n"
     ]
    }
   ],
   "source": [
    "l=[2,4,7,3,6,8]\n",
    "t=[  i**2 for i in l]\n",
    "print(t)"
   ]
  },
  {
   "cell_type": "markdown",
   "id": "fb3a946d",
   "metadata": {},
   "source": [
    "# Q5. Create a function that takes in a tuple of integers and returns the sum of the integers. Test the function with a tuple of your choice."
   ]
  },
  {
   "cell_type": "code",
   "execution_count": 17,
   "id": "9f9dc605",
   "metadata": {},
   "outputs": [
    {
     "name": "stdout",
     "output_type": "stream",
     "text": [
      "14\n"
     ]
    }
   ],
   "source": [
    "t=(2,3,4,5) \n",
    "s=0\n",
    "p=[i for i in t]\n",
    "for i in range(len(p)):\n",
    "    s+=p[i]\n",
    "print(s)"
   ]
  },
  {
   "cell_type": "markdown",
   "id": "7cbf6e3f",
   "metadata": {},
   "source": [
    "# Q6. Create two sets of your favourite fruits, and use the union() method to combine them into a single set. Print the resulting set to the console."
   ]
  },
  {
   "cell_type": "code",
   "execution_count": 20,
   "id": "5b06346d",
   "metadata": {},
   "outputs": [],
   "source": [
    "set1={\"orange\",\"mango\",\"papaya\",\"banana\"}\n",
    "set2={\"liche\",\"graphes\",\"gavava\"}\n",
    "t=set1.union(set2)"
   ]
  },
  {
   "cell_type": "code",
   "execution_count": 21,
   "id": "54fa4a9e",
   "metadata": {},
   "outputs": [
    {
     "data": {
      "text/plain": [
       "{'banana', 'gavava', 'graphes', 'liche', 'mango', 'orange', 'papaya'}"
      ]
     },
     "execution_count": 21,
     "metadata": {},
     "output_type": "execute_result"
    }
   ],
   "source": [
    "t"
   ]
  },
  {
   "cell_type": "markdown",
   "id": "c8f8318b",
   "metadata": {},
   "source": [
    "# Q7. Create a set of random words, and use the add() method to add a new word to the set. Print the resulting set to the console."
   ]
  },
  {
   "cell_type": "code",
   "execution_count": 22,
   "id": "171cb9ab",
   "metadata": {},
   "outputs": [],
   "source": [
    "set1={\"orange\",\"mango\",\"papaya\",\"banana\"}\n",
    "set1.add(\"kiwi\")"
   ]
  },
  {
   "cell_type": "code",
   "execution_count": 23,
   "id": "00bf11c3",
   "metadata": {},
   "outputs": [
    {
     "data": {
      "text/plain": [
       "{'banana', 'kiwi', 'mango', 'orange', 'papaya'}"
      ]
     },
     "execution_count": 23,
     "metadata": {},
     "output_type": "execute_result"
    }
   ],
   "source": [
    "set1"
   ]
  },
  {
   "cell_type": "markdown",
   "id": "a0917cea",
   "metadata": {},
   "source": [
    "# Q8. Create a set of your favourite animals, and use the remove() method to remove one animal from the set. Print the resulting set to the console."
   ]
  },
  {
   "cell_type": "code",
   "execution_count": 24,
   "id": "61b2fd79",
   "metadata": {},
   "outputs": [],
   "source": [
    "animals = {\"dog\", \"cat\", \"hamster\", \"parrot\"}\n",
    "animals.remove(\"parrot\")"
   ]
  },
  {
   "cell_type": "code",
   "execution_count": 25,
   "id": "bea623c2",
   "metadata": {},
   "outputs": [
    {
     "data": {
      "text/plain": [
       "{'cat', 'dog', 'hamster'}"
      ]
     },
     "execution_count": 25,
     "metadata": {},
     "output_type": "execute_result"
    }
   ],
   "source": [
    "animals"
   ]
  },
  {
   "cell_type": "markdown",
   "id": "02acc002",
   "metadata": {},
   "source": [
    "# Q9. favorite_books = {\"1984\", \"To Kill a Mockingbird\", \"Pride and Prejudice\"} favorite_movies = [\"The Shawshank Redemption\", \"The Godfather\", \"The Dark Knight\"] Use the zip() function to combine the book set and movie list into a list of tuples representing book/ movie pairs. Print the resulting list."
   ]
  },
  {
   "cell_type": "code",
   "execution_count": 27,
   "id": "78ae0f55",
   "metadata": {},
   "outputs": [],
   "source": [
    "favorite_books = {\"1984\", \"To Kill a Mockingbird\", \"Pride and Prejudice\"},\n",
    "favorite_movies = [\"The Shawshank Redemption\", \"The Godfather\", \"The Dark Knight\"]\n",
    "combine=list(zip(favorite_movies,favorite_books))"
   ]
  },
  {
   "cell_type": "code",
   "execution_count": 28,
   "id": "7180abb6",
   "metadata": {},
   "outputs": [
    {
     "data": {
      "text/plain": [
       "[('The Shawshank Redemption',\n",
       "  {'1984', 'Pride and Prejudice', 'To Kill a Mockingbird'})]"
      ]
     },
     "execution_count": 28,
     "metadata": {},
     "output_type": "execute_result"
    }
   ],
   "source": [
    "combine"
   ]
  },
  {
   "cell_type": "code",
   "execution_count": null,
   "id": "ada4cb5a",
   "metadata": {},
   "outputs": [],
   "source": []
  }
 ],
 "metadata": {
  "kernelspec": {
   "display_name": "Python 3 (ipykernel)",
   "language": "python",
   "name": "python3"
  },
  "language_info": {
   "codemirror_mode": {
    "name": "ipython",
    "version": 3
   },
   "file_extension": ".py",
   "mimetype": "text/x-python",
   "name": "python",
   "nbconvert_exporter": "python",
   "pygments_lexer": "ipython3",
   "version": "3.10.9"
  }
 },
 "nbformat": 4,
 "nbformat_minor": 5
}
